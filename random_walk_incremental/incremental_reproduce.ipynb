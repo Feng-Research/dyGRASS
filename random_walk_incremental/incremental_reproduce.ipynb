{
 "cells": [
  {
   "cell_type": "code",
   "execution_count": null,
   "metadata": {},
   "outputs": [],
   "source": [
    "include(\"../dyGRASS.jl\")"
   ]
  },
  {
   "cell_type": "code",
   "execution_count": 2,
   "metadata": {},
   "outputs": [
    {
     "name": "stdout",
     "output_type": "stream",
     "text": [
      "1: G2\n",
      "2: G3\n",
      "3: fe_4elt\n",
      "4: fe_ocean\n",
      "5: fe_sphere\n",
      "6: del18\n",
      "7: del19\n",
      "8: del20\n",
      "9: del21\n",
      "10: del22\n",
      "11: M6\n",
      "12: 333SP\n",
      "13: AS365\n",
      "14: NACA\n"
     ]
    }
   ],
   "source": [
    "dataset_folder = \"../dataset\"\n",
    "entries = readdir(dataset_folder; join=true)\n",
    "subfolders = filter(isdir, entries)\n",
    "dataset_names = basename.(subfolders)\n",
    "\n",
    "dataset_names = dataset_names[[3,4,12,13,14,7,8,9,10,11,5,1,2,6]]\n",
    "\n",
    "k_list = [10, 10, 33, 100, 40, 35, 35, 34, 35, 40, 32, 39, 36, 44]\n",
    "for (i,name) in pairs(dataset_names)\n",
    "    println(\"$i: $name\")\n",
    "end"
   ]
  },
  {
   "cell_type": "code",
   "execution_count": null,
   "metadata": {},
   "outputs": [
    {
     "name": "stdout",
     "output_type": "stream",
     "text": [
      "Processing dataset: G2\n",
      "Reading ../dataset/G2/adj_sparse.mtx with base 0 and type adj and weighted true\n",
      "Warning: Treat as lap, but maybe is a self-loop in adjacency matrix.\n",
      "Reading ../dataset/G2/dense.mtx with base 1 and type lap and weighted true\n",
      "Reading ../dataset/G2/ext.mtx with base 1 and type adj and weighted true\n",
      "Number of vertices = 150102\n",
      "Original sparsifier density = 1.090525109592144\n",
      "Fully updated sparsifier density = 1.3231868995749556\n",
      "step size: 10\n",
      "Reading ../dataset/G2/updated_adj_sparse.mtx with base 1 and type adj and weighted true\n",
      "Processing dataset: G3\n",
      "Reading ../dataset/G3/adj_sparse.mtx with base 0 and type adj and weighted true\n",
      "Warning: Treat as lap, but maybe is a self-loop in adjacency matrix.\n",
      "Reading ../dataset/G3/dense.mtx with base 1 and type lap and weighted true\n",
      "Reading ../dataset/G3/ext.mtx with base 1 and type adj and weighted true\n",
      "Number of vertices = 1585478\n",
      "Original sparsifier density = 1.1049576216131665\n",
      "Fully updated sparsifier density = 1.337935310360661\n",
      "step size: 10\n",
      "Reading ../dataset/G3/updated_adj_sparse.mtx with base 1 and type adj and weighted true\n",
      "Processing dataset: fe_4elt\n",
      "Reading ../dataset/fe_4elt/adj_sparse.mtx with base 0 and type adj and weighted true\n",
      "Reading ../dataset/fe_4elt/dense.mtx with base 1 and type adj and weighted false\n",
      "Reading ../dataset/fe_4elt/ext.mtx with base 1 and type adj and weighted true\n",
      "Number of vertices = 11143\n",
      "Original sparsifier density = 1.099075652876245\n",
      "Fully updated sparsifier density = 1.4005205061473571\n",
      "step size: 33\n",
      "Reading ../dataset/fe_4elt/updated_adj_sparse.mtx with base 1 and type adj and weighted true\n",
      "Processing dataset: fe_ocean\n",
      "Reading ../dataset/fe_ocean/adj_sparse.mtx with base 0 and type adj and weighted true\n",
      "Reading ../dataset/fe_ocean/dense.mtx with base 1 and type adj and weighted false\n",
      "Reading ../dataset/fe_ocean/ext.mtx with base 1 and type adj and weighted true\n",
      "Number of vertices = 143437\n",
      "Original sparsifier density = 1.098154590517091\n",
      "Fully updated sparsifier density = 1.3963970244776451\n",
      "step size: 100\n",
      "Reading ../dataset/fe_ocean/updated_adj_sparse.mtx with base 1 and type adj and weighted true\n",
      "Processing dataset: fe_sphere\n",
      "Reading ../dataset/fe_sphere/adj_sparse.mtx with base 0 and type adj and weighted true\n",
      "Reading ../dataset/fe_sphere/dense.mtx with base 1 and type adj and weighted false\n",
      "Reading ../dataset/fe_sphere/ext.mtx with base 1 and type adj and weighted true\n",
      "Number of vertices = 16386\n",
      "Original sparsifier density = 1.1052117661418284\n",
      "Fully updated sparsifier density = 1.353167337971439\n",
      "step size: 40\n",
      "Reading ../dataset/fe_sphere/updated_adj_sparse.mtx with base 1 and type adj and weighted true\n",
      "Processing dataset: del18\n",
      "Reading ../dataset/del18/adj_sparse.mtx with base 0 and type adj and weighted true\n",
      "Reading ../dataset/del18/dense.mtx with base 1 and type adj and weighted false\n",
      "Reading ../dataset/del18/ext.mtx with base 1 and type adj and weighted true\n",
      "Number of vertices = 262144\n",
      "Original sparsifier density = 1.1047172546386719\n",
      "Fully updated sparsifier density = 1.3484153747558594\n",
      "step size: 35\n",
      "Reading ../dataset/del18/updated_adj_sparse.mtx with base 1 and type adj and weighted true\n",
      "Processing dataset: del19\n",
      "Reading ../dataset/del19/adj_sparse.mtx with base 0 and type adj and weighted true\n",
      "Reading ../dataset/del19/dense.mtx with base 1 and type adj and weighted false\n",
      "Reading ../dataset/del19/ext.mtx with base 1 and type adj and weighted true\n",
      "Number of vertices = 524288\n",
      "Original sparsifier density = 1.1061077117919922\n",
      "Fully updated sparsifier density = 1.3520374298095703\n",
      "step size: 35\n",
      "Reading ../dataset/del19/updated_adj_sparse.mtx with base 1 and type adj and weighted true\n",
      "Processing dataset: del20\n",
      "Reading ../dataset/del20/adj_sparse.mtx with base 0 and type adj and weighted true\n",
      "Reading ../dataset/del20/dense.mtx with base 1 and type adj and weighted false\n",
      "Reading ../dataset/del20/ext.mtx with base 1 and type adj and weighted true\n",
      "Number of vertices = 1048576\n",
      "Original sparsifier density = 1.1051359176635742\n",
      "Fully updated sparsifier density = 1.3496370315551758\n",
      "step size: 34\n",
      "Reading ../dataset/del20/updated_adj_sparse.mtx with base 1 and type adj and weighted true\n",
      "Processing dataset: del21\n",
      "Reading ../dataset/del21/adj_sparse.mtx with base 0 and type adj and weighted true\n",
      "Reading ../dataset/del21/dense.mtx with base 1 and type adj and weighted false\n",
      "Reading ../dataset/del21/ext.mtx with base 1 and type adj and weighted true\n",
      "Number of vertices = 2097152\n",
      "Original sparsifier density = 1.1006011962890625\n",
      "Fully updated sparsifier density = 1.3458781242370605\n",
      "step size: 35\n",
      "Reading ../dataset/del21/updated_adj_sparse.mtx with base 1 and type adj and weighted true\n",
      "Processing dataset: del22\n",
      "Reading ../dataset/del22/adj_sparse.mtx with base 0 and type adj and weighted true\n",
      "Reading ../dataset/del22/dense.mtx with base 1 and type adj and weighted false\n",
      "Reading ../dataset/del22/ext.mtx with base 1 and type adj and weighted true\n",
      "Number of vertices = 4194304\n",
      "Original sparsifier density = 1.1028664112091064\n",
      "Fully updated sparsifier density = 1.3476362228393555\n",
      "step size: 40\n",
      "Reading ../dataset/del22/updated_adj_sparse.mtx with base 1 and type adj and weighted true\n",
      "Processing dataset: M6\n",
      "Reading ../dataset/M6/adj_sparse.mtx with base 0 and type adj and weighted true\n",
      "Reading ../dataset/M6/dense.mtx with base 1 and type adj and weighted false\n",
      "Reading ../dataset/M6/ext.mtx with base 1 and type adj and weighted true\n",
      "Number of vertices = 3501776\n",
      "Original sparsifier density = 1.0977286953820005\n",
      "Fully updated sparsifier density = 1.3389659989673812\n",
      "step size: 32\n",
      "Reading ../dataset/M6/updated_adj_sparse.mtx with base 1 and type adj and weighted true\n",
      "Processing dataset: 333SP\n",
      "Reading ../dataset/333SP/adj_sparse.mtx with base 0 and type adj and weighted true\n",
      "Reading ../dataset/333SP/dense.mtx with base 1 and type adj and weighted false\n",
      "Reading ../dataset/333SP/ext.mtx with base 1 and type adj and weighted true\n",
      "Number of vertices = 3712815\n",
      "Original sparsifier density = 1.0967406132543636\n",
      "Fully updated sparsifier density = 1.336933566579536\n",
      "step size: 39\n",
      "Reading ../dataset/333SP/updated_adj_sparse.mtx with base 1 and type adj and weighted true\n",
      "Processing dataset: AS365\n",
      "Reading ../dataset/AS365/adj_sparse.mtx with base 0 and type adj and weighted true\n",
      "Reading ../dataset/AS365/dense.mtx with base 1 and type adj and weighted false\n",
      "Reading ../dataset/AS365/ext.mtx with base 1 and type adj and weighted true\n",
      "Number of vertices = 3799275\n",
      "Original sparsifier density = 1.1376541577011403\n",
      "Fully updated sparsifier density = 1.3786788268814445\n",
      "step size: 41\n",
      "Reading ../dataset/AS365/updated_adj_sparse.mtx with base 1 and type adj and weighted true\n",
      "Processing dataset: NACA\n",
      "Reading ../dataset/NACA/adj_sparse.mtx with base 0 and type adj and weighted true\n",
      "Reading ../dataset/NACA/dense.mtx with base 1 and type adj and weighted false\n",
      "Reading ../dataset/NACA/ext.mtx with base 1 and type adj and weighted true\n",
      "Number of vertices = 1039183\n",
      "Original sparsifier density = 1.1047977112789567\n",
      "Fully updated sparsifier density = 1.3451596109636128\n",
      "step size: 44\n",
      "Reading ../dataset/NACA/updated_adj_sparse.mtx with base 1 and type adj and weighted true\n"
     ]
    }
   ],
   "source": [
    "CND_all = []\n",
    "density_all = []\n",
    "\n",
    "for (i,name) in pairs(dataset_names)\n",
    "    println(\"Processing dataset: $name\")\n",
    "    CND_list, density_list, output_list = incremental_test(name; \n",
    "        exp = true,\n",
    "        distortion = k_list[i]\n",
    "    )\n",
    "    append!(CND_all, CND_list)\n",
    "    append!(density_all, density_list)\n",
    "end"
   ]
  },
  {
   "cell_type": "code",
   "execution_count": 11,
   "metadata": {},
   "outputs": [
    {
     "data": {
      "text/plain": [
       "14-element Vector{Any}:\n",
       "  71.89029399913827\n",
       "  88.3914230647515\n",
       " 104.57021398500737\n",
       " 208.39369550122112\n",
       " 145.16331845738495\n",
       " 125.0913483068563\n",
       " 141.10579444581043\n",
       " 147.28948198769928\n",
       " 158.1097765200682\n",
       " 171.37524755407213\n",
       " 167.1804318341226\n",
       " 182.4823194531567\n",
       " 149.3267037822451\n",
       " 174.3887148897655"
      ]
     },
     "metadata": {},
     "output_type": "display_data"
    }
   ],
   "source": [
    "CND_all"
   ]
  },
  {
   "cell_type": "code",
   "execution_count": 12,
   "metadata": {},
   "outputs": [
    {
     "data": {
      "text/plain": [
       "14-element Vector{Any}:\n",
       " 1.1237225353426337\n",
       " 1.1387158951432943\n",
       " 1.128241945616082\n",
       " 1.1254976052204104\n",
       " 1.1281581838154522\n",
       " 1.137359619140625\n",
       " 1.1405467987060547\n",
       " 1.1397504806518555\n",
       " 1.1334033012390137\n",
       " 1.131636142730713\n",
       " 1.1335987795906992\n",
       " 1.1254463257662985\n",
       " 1.1683173763415389\n",
       " 1.127438574341574"
      ]
     },
     "metadata": {},
     "output_type": "display_data"
    }
   ],
   "source": [
    "density_all"
   ]
  }
 ],
 "metadata": {
  "kernelspec": {
   "display_name": "Julia 1.11.5",
   "language": "julia",
   "name": "julia-1.11"
  },
  "language_info": {
   "file_extension": ".jl",
   "mimetype": "application/julia",
   "name": "julia",
   "version": "1.11.5"
  }
 },
 "nbformat": 4,
 "nbformat_minor": 2
}
